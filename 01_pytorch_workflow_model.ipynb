{
  "nbformat": 4,
  "nbformat_minor": 0,
  "metadata": {
    "colab": {
      "provenance": [],
      "authorship_tag": "ABX9TyMNEQDYUXtGKS9CWvAcJZeP",
      "include_colab_link": true
    },
    "kernelspec": {
      "name": "python3",
      "display_name": "Python 3"
    },
    "language_info": {
      "name": "python"
    }
  },
  "cells": [
    {
      "cell_type": "markdown",
      "metadata": {
        "id": "view-in-github",
        "colab_type": "text"
      },
      "source": [
        "<a href=\"https://colab.research.google.com/github/manisharavindh/my-first-pytorch-model/blob/main/01_pytorch_workflow_model.ipynb\" target=\"_parent\"><img src=\"https://colab.research.google.com/assets/colab-badge.svg\" alt=\"Open In Colab\"/></a>"
      ]
    },
    {
      "cell_type": "code",
      "execution_count": 30,
      "metadata": {
        "colab": {
          "base_uri": "https://localhost:8080/"
        },
        "id": "79ZHIEg_AUbl",
        "outputId": "ebdc2ed3-2951-4eaa-beaf-66efa178d671"
      },
      "outputs": [
        {
          "output_type": "stream",
          "name": "stdout",
          "text": [
            "2.6.0+cu124\n"
          ]
        }
      ],
      "source": [
        "import torch\n",
        "from torch import nn\n",
        "import matplotlib.pyplot as plt\n",
        "\n",
        "print(torch.__version__)"
      ]
    },
    {
      "cell_type": "code",
      "source": [
        "# device agnostic code\n",
        "device = \"cuda\" if torch.cuda.is_available() else \"cpu\"\n",
        "device"
      ],
      "metadata": {
        "colab": {
          "base_uri": "https://localhost:8080/",
          "height": 36
        },
        "id": "0bGsbPgKGwsY",
        "outputId": "4837aaac-b09c-4893-8812-5189b4f0cc3c"
      },
      "execution_count": 31,
      "outputs": [
        {
          "output_type": "execute_result",
          "data": {
            "text/plain": [
              "'cpu'"
            ],
            "application/vnd.google.colaboratory.intrinsic+json": {
              "type": "string"
            }
          },
          "metadata": {},
          "execution_count": 31
        }
      ]
    },
    {
      "cell_type": "code",
      "source": [
        "# data with know parameters\n",
        "weight = 0.7\n",
        "bias = 0.3\n",
        "\n",
        "X = torch.arange(0, 1, 0.02).unsqueeze(dim=1)\n",
        "y = weight*X + bias\n",
        "X[:5], y[:5]"
      ],
      "metadata": {
        "colab": {
          "base_uri": "https://localhost:8080/"
        },
        "id": "ybVlfi2PA7oj",
        "outputId": "5c9ae345-fd87-4fa7-fa7e-f2515b04357b"
      },
      "execution_count": 32,
      "outputs": [
        {
          "output_type": "execute_result",
          "data": {
            "text/plain": [
              "(tensor([[0.0000],\n",
              "         [0.0200],\n",
              "         [0.0400],\n",
              "         [0.0600],\n",
              "         [0.0800]]),\n",
              " tensor([[0.3000],\n",
              "         [0.3140],\n",
              "         [0.3280],\n",
              "         [0.3420],\n",
              "         [0.3560]]))"
            ]
          },
          "metadata": {},
          "execution_count": 32
        }
      ]
    },
    {
      "cell_type": "code",
      "source": [
        "# train test split\n",
        "split_size = int(0.8 * len(X))\n",
        "\n",
        "X_train, y_train = X[:split_size], y[:split_size]\n",
        "X_test, y_test = X[split_size:], y[split_size:]\n",
        "\n",
        "len(X_train), len(y_train), len(X_test), len(y_test)"
      ],
      "metadata": {
        "colab": {
          "base_uri": "https://localhost:8080/"
        },
        "id": "nKGJ-rTTA7l8",
        "outputId": "13490e04-cc52-44dd-be84-25cbcc761d34"
      },
      "execution_count": 33,
      "outputs": [
        {
          "output_type": "execute_result",
          "data": {
            "text/plain": [
              "(40, 40, 10, 10)"
            ]
          },
          "metadata": {},
          "execution_count": 33
        }
      ]
    },
    {
      "cell_type": "code",
      "source": [
        "# visualization\n",
        "plt.style.use('https://github.com/dhaitz/matplotlib-stylesheets/raw/master/pitayasmoothie-light.mplstyle')\n",
        "\n",
        "def pred_plot(train_data = X_train,\n",
        "             train_labels = y_train,\n",
        "             test_data = X_test,\n",
        "             test_labels = y_test,\n",
        "             predictions = None):\n",
        "\n",
        "  plt.figure(figsize=(8, 4))\n",
        "\n",
        "  plt.scatter(train_data.to('cpu'), train_labels.to('cpu'), c='b', s=4, label=\"Training Data\")\n",
        "  plt.scatter(test_data.to('cpu'), test_labels.to('cpu'), c='r', s=4, label=\"Testing Data\")\n",
        "\n",
        "  if predictions is not None:\n",
        "    plt.scatter(test_data.to('cpu'), predictions.to('cpu'), c='g', s=4, label=\"Predictions\")\n",
        "\n",
        "  plt.legend()\n",
        "pred_plot()"
      ],
      "metadata": {
        "colab": {
          "base_uri": "https://localhost:8080/",
          "height": 363
        },
        "id": "F6C80pE5A7j3",
        "outputId": "d1e8a7de-bd80-4dab-df92-1d484430d123"
      },
      "execution_count": 34,
      "outputs": [
        {
          "output_type": "display_data",
          "data": {
            "text/plain": [
              "<Figure size 800x400 with 1 Axes>"
            ],
            "image/png": "[encoded data removed]"
          },
          "metadata": {}
        }
      ]
    },
    {
      "cell_type": "code",
      "source": [
        "# model building\n",
        "class LinearRegressingModel(nn.Module):\n",
        "  def __init__(self):\n",
        "    super().__init__()\n",
        "    self.linear_layer = nn.Linear(in_features=1,\n",
        "                                  out_features=1)\n",
        "\n",
        "  def forward(self, x: torch.Tensor) -> torch.Tensor:\n",
        "    return self.linear_layer(x)\n",
        "\n",
        "model = LinearRegressingModel()\n",
        "model, model.state_dict()"
      ],
      "metadata": {
        "colab": {
          "base_uri": "https://localhost:8080/"
        },
        "id": "IVqlQCwPA7eI",
        "outputId": "8d985308-6355-4afc-ea18-4339679a2f3e"
      },
      "execution_count": 35,
      "outputs": [
        {
          "output_type": "execute_result",
          "data": {
            "text/plain": [
              "(LinearRegressingModel(\n",
              "   (linear_layer): Linear(in_features=1, out_features=1, bias=True)\n",
              " ),\n",
              " OrderedDict([('linear_layer.weight', tensor([[-0.0078]])),\n",
              "              ('linear_layer.bias', tensor([-0.0134]))]))"
            ]
          },
          "metadata": {},
          "execution_count": 35
        }
      ]
    },
    {
      "cell_type": "code",
      "source": [
        "# data to GPU\n",
        "X_train = X_train.to(device)\n",
        "y_train = y_train.to(device)\n",
        "X_test = X_test.to(device)\n",
        "y_test = y_test.to(device)\n",
        "\n",
        "# model to GPU\n",
        "model.to(device)\n",
        "next(model.parameters()).device"
      ],
      "metadata": {
        "colab": {
          "base_uri": "https://localhost:8080/"
        },
        "id": "ww11WbHXLSD9",
        "outputId": "344ab0df-4cee-477c-bff8-d84e11d0d4f5"
      },
      "execution_count": 36,
      "outputs": [
        {
          "output_type": "execute_result",
          "data": {
            "text/plain": [
              "device(type='cpu')"
            ]
          },
          "metadata": {},
          "execution_count": 36
        }
      ]
    },
    {
      "cell_type": "code",
      "source": [
        "# training\n",
        "loss_fn = nn.L1Loss()\n",
        "optimizer = torch.optim.Adam(params=model.parameters(), lr=0.01)\n",
        "\n",
        "# loop\n",
        "epochs = 200\n",
        "\n",
        "epoch_count = []\n",
        "train_loss_values = []\n",
        "test_loss_values = []\n",
        "\n",
        "for epoch in range(epochs):\n",
        "  model.train()\n",
        "  y_pred = model(X_train)\n",
        "  loss = loss_fn(y_pred, y_train)\n",
        "  optimizer.zero_grad()\n",
        "  loss.backward()\n",
        "  optimizer.step()\n",
        "\n",
        "  model.eval()\n",
        "  with torch.inference_mode():\n",
        "    test_pred = model(X_test)\n",
        "    test_loss = loss_fn(test_pred, y_test)\n",
        "\n",
        "  if epoch % 10 == 0:\n",
        "    epoch_count.append(epoch)\n",
        "    train_loss_values.append(loss)\n",
        "    test_loss_values.append(test_loss)\n",
        "    print(f\"Epoch: {epoch} | Train Loss: {loss} | Test Loss: {test_loss}\")"
      ],
      "metadata": {
        "colab": {
          "base_uri": "https://localhost:8080/"
        },
        "id": "vjKNyBX4LSBG",
        "outputId": "429e3ece-6c2a-4ee6-b3d3-ae3fbb1646ec"
      },
      "execution_count": 37,
      "outputs": [
        {
          "output_type": "stream",
          "name": "stdout",
          "text": [
            "Epoch: 0 | Train Loss: 0.5894099473953247 | Test Loss: 0.9243953824043274\n",
            "Epoch: 10 | Train Loss: 0.45040997862815857 | Test Loss: 0.7353953123092651\n",
            "Epoch: 20 | Train Loss: 0.3114098906517029 | Test Loss: 0.5463953614234924\n",
            "Epoch: 30 | Train Loss: 0.17240996658802032 | Test Loss: 0.3573954999446869\n",
            "Epoch: 40 | Train Loss: 0.06796637922525406 | Test Loss: 0.17725908756256104\n",
            "Epoch: 50 | Train Loss: 0.056551624089479446 | Test Loss: 0.06258179247379303\n",
            "Epoch: 60 | Train Loss: 0.049590833485126495 | Test Loss: 0.0657571479678154\n",
            "Epoch: 70 | Train Loss: 0.038452669978141785 | Test Loss: 0.09528481215238571\n",
            "Epoch: 80 | Train Loss: 0.02980879507958889 | Test Loss: 0.07046198099851608\n",
            "Epoch: 90 | Train Loss: 0.020033201202750206 | Test Loss: 0.033139366656541824\n",
            "Epoch: 100 | Train Loss: 0.009728223085403442 | Test Loss: 0.022368406876921654\n",
            "Epoch: 110 | Train Loss: 0.0007882416248321533 | Test Loss: 0.004094135947525501\n",
            "Epoch: 120 | Train Loss: 0.0016241356497630477 | Test Loss: 0.002701920224353671\n",
            "Epoch: 130 | Train Loss: 0.0018301293021067977 | Test Loss: 0.001394981169141829\n",
            "Epoch: 140 | Train Loss: 0.000904449843801558 | Test Loss: 0.005014604423195124\n",
            "Epoch: 150 | Train Loss: 0.0008447520667687058 | Test Loss: 0.0022091330029070377\n",
            "Epoch: 160 | Train Loss: 0.0002234272687928751 | Test Loss: 0.0010995864868164062\n",
            "Epoch: 170 | Train Loss: 0.002916144672781229 | Test Loss: 0.0035805285442620516\n",
            "Epoch: 180 | Train Loss: 0.0008955150842666626 | Test Loss: 0.0011484324932098389\n",
            "Epoch: 190 | Train Loss: 0.0013029389083385468 | Test Loss: 0.0008080780389718711\n"
          ]
        }
      ]
    },
    {
      "cell_type": "code",
      "source": [
        "model.state_dict()"
      ],
      "metadata": {
        "colab": {
          "base_uri": "https://localhost:8080/"
        },
        "id": "X6VllmF2LR-P",
        "outputId": "5fe611a8-cefa-461f-c4bd-84b0a44cb6e6"
      },
      "execution_count": 38,
      "outputs": [
        {
          "output_type": "execute_result",
          "data": {
            "text/plain": [
              "OrderedDict([('linear_layer.weight', tensor([[0.7003]])),\n",
              "             ('linear_layer.bias', tensor([0.2994]))])"
            ]
          },
          "metadata": {},
          "execution_count": 38
        }
      ]
    },
    {
      "cell_type": "code",
      "source": [
        "# predictions and evaluations\n",
        "model.eval()\n",
        "with torch.inference_mode():\n",
        "  new_pred = model(X_test)\n",
        "\n",
        "pred_plot(predictions=new_pred)"
      ],
      "metadata": {
        "colab": {
          "base_uri": "https://localhost:8080/",
          "height": 363
        },
        "id": "sz75BtySLR7p",
        "outputId": "e866a5f8-e922-4c1e-b6f0-25aad3687397"
      },
      "execution_count": 39,
      "outputs": [
        {
          "output_type": "display_data",
          "data": {
            "text/plain": [
              "<Figure size 800x400 with 1 Axes>"
            ],
            "image/png": "[encoded data removed]"
          },
          "metadata": {}
        }
      ]
    },
    {
      "cell_type": "code",
      "source": [
        "# loss curve\n",
        "plt.plot(epoch_count, torch.tensor(train_loss_values).numpy(), label=\"Train Loss\")\n",
        "plt.plot(epoch_count, torch.tensor(test_loss_values).numpy(), label=\"Test Loss\")\n",
        "plt.xlabel(\"Loss\")\n",
        "plt.ylabel(\"Epochs\")\n",
        "plt.title(\"Loss Curve\")\n",
        "plt.legend()"
      ],
      "metadata": {
        "colab": {
          "base_uri": "https://localhost:8080/",
          "height": 483
        },
        "id": "KGeZ0MQxLR4i",
        "outputId": "79a27d16-0a89-4096-fb10-a54b7c4959e4"
      },
      "execution_count": 40,
      "outputs": [
        {
          "output_type": "execute_result",
          "data": {
            "text/plain": [
              "<matplotlib.legend.Legend at 0x7cc0daee37d0>"
            ]
          },
          "metadata": {},
          "execution_count": 40
        },
        {
          "output_type": "display_data",
          "data": {
            "text/plain": [
              "<Figure size 640x480 with 1 Axes>"
            ],
            "image/png": "[encoded data removed]"
          },
          "metadata": {}
        }
      ]
    },
    {
      "cell_type": "code",
      "source": [
        "# saving the model\n",
        "from pathlib import Path\n",
        "\n",
        "MODEL_PATH = Path('models')\n",
        "MODEL_PATH.mkdir(parents=True, exist_ok=True)\n",
        "\n",
        "MODEL_NAME = \"01_pytorch_workflow_model.pth\"\n",
        "MODEL_SAVE_PATH = MODEL_PATH / MODEL_NAME\n",
        "\n",
        "torch.save(\n",
        "    obj=model.state_dict(),\n",
        "    f=MODEL_SAVE_PATH\n",
        ")\n",
        "print(f\"model saved to: {MODEL_SAVE_PATH}\")"
      ],
      "metadata": {
        "colab": {
          "base_uri": "https://localhost:8080/"
        },
        "id": "Avlcuq30FgCQ",
        "outputId": "ef1974c5-3289-42ad-a60d-2365ec8f0f3e"
      },
      "execution_count": 41,
      "outputs": [
        {
          "output_type": "stream",
          "name": "stdout",
          "text": [
            "model saved to: models/01_pytorch_workflow_model.pth\n"
          ]
        }
      ]
    },
    {
      "cell_type": "code",
      "source": [
        "# loading the saved model\n",
        "loaded_model = LinearRegressingModel()\n",
        "loaded_model.load_state_dict(torch.load(MODEL_SAVE_PATH))"
      ],
      "metadata": {
        "colab": {
          "base_uri": "https://localhost:8080/"
        },
        "id": "wcvRqs9SSHLY",
        "outputId": "ad99589e-14ff-4816-83f0-6955143b3e09"
      },
      "execution_count": 42,
      "outputs": [
        {
          "output_type": "execute_result",
          "data": {
            "text/plain": [
              "<All keys matched successfully>"
            ]
          },
          "metadata": {},
          "execution_count": 42
        }
      ]
    },
    {
      "cell_type": "code",
      "source": [
        "loaded_model.to(device)\n",
        "\n",
        "loaded_model.eval()\n",
        "with torch.inference_mode():\n",
        "  loaded_model_pred = loaded_model(X_test)\n",
        "\n",
        "loaded_model_pred == new_pred"
      ],
      "metadata": {
        "colab": {
          "base_uri": "https://localhost:8080/"
        },
        "id": "T8Fd7MKqFf5J",
        "outputId": "2f648b8b-bf70-4895-d23a-9ce6f5dd95bc"
      },
      "execution_count": 43,
      "outputs": [
        {
          "output_type": "execute_result",
          "data": {
            "text/plain": [
              "tensor([[True],\n",
              "        [True],\n",
              "        [True],\n",
              "        [True],\n",
              "        [True],\n",
              "        [True],\n",
              "        [True],\n",
              "        [True],\n",
              "        [True],\n",
              "        [True]])"
            ]
          },
          "metadata": {},
          "execution_count": 43
        }
      ]
    },
    {
      "cell_type": "code",
      "source": [],
      "metadata": {
        "id": "1XalZMQRXjRS"
      },
      "execution_count": 43,
      "outputs": []
    }
  ]
}