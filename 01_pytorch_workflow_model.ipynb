{
  "nbformat": 4,
  "nbformat_minor": 0,
  "metadata": {
    "colab": {
      "provenance": [],
      "gpuType": "T4",
      "authorship_tag": "ABX9TyN/VxkdFK7JmxYZ0Sop9HB0"
    },
    "kernelspec": {
      "name": "python3",
      "display_name": "Python 3"
    },
    "language_info": {
      "name": "python"
    },
    "accelerator": "GPU"
  },
  "cells": [
    {
      "cell_type": "code",
      "execution_count": 194,
      "metadata": {
        "colab": {
          "base_uri": "https://localhost:8080/"
        },
        "id": "79ZHIEg_AUbl",
        "outputId": "59cbcfe5-7ac6-4081-ae3e-b451e6981c17"
      },
      "outputs": [
        {
          "output_type": "stream",
          "name": "stdout",
          "text": [
            "2.6.0+cu124\n"
          ]
        }
      ],
      "source": [
        "import torch\n",
        "from torch import nn\n",
        "import matplotlib.pyplot as plt\n",
        "\n",
        "print(torch.__version__)"
      ]
    },
    {
      "cell_type": "code",
      "source": [
        "# device agnostic code\n",
        "device = \"cuda\" if torch.cuda.is_available() else \"cpu\"\n",
        "device"
      ],
      "metadata": {
        "colab": {
          "base_uri": "https://localhost:8080/",
          "height": 36
        },
        "id": "0bGsbPgKGwsY",
        "outputId": "ef259800-88ad-474c-ff59-e4f964deb49b"
      },
      "execution_count": 195,
      "outputs": [
        {
          "output_type": "execute_result",
          "data": {
            "text/plain": [
              "'cuda'"
            ],
            "application/vnd.google.colaboratory.intrinsic+json": {
              "type": "string"
            }
          },
          "metadata": {},
          "execution_count": 195
        }
      ]
    },
    {
      "cell_type": "code",
      "source": [
        "# data with know parameters\n",
        "weight = 0.7\n",
        "bias = 0.3\n",
        "\n",
        "X = torch.arange(0, 1, 0.02).unsqueeze(dim=1)\n",
        "y = weight*X + bias\n",
        "X[:5], y[:5]"
      ],
      "metadata": {
        "colab": {
          "base_uri": "https://localhost:8080/"
        },
        "id": "ybVlfi2PA7oj",
        "outputId": "63e04492-928f-43d2-81f6-b861d11e0af3"
      },
      "execution_count": 196,
      "outputs": [
        {
          "output_type": "execute_result",
          "data": {
            "text/plain": [
              "(tensor([[0.0000],\n",
              "         [0.0200],\n",
              "         [0.0400],\n",
              "         [0.0600],\n",
              "         [0.0800]]),\n",
              " tensor([[0.3000],\n",
              "         [0.3140],\n",
              "         [0.3280],\n",
              "         [0.3420],\n",
              "         [0.3560]]))"
            ]
          },
          "metadata": {},
          "execution_count": 196
        }
      ]
    },
    {
      "cell_type": "code",
      "source": [
        "# train test split\n",
        "split_size = int(0.8 * len(X))\n",
        "\n",
        "X_train, y_train = X[:split_size], y[:split_size]\n",
        "X_test, y_test = X[split_size:], y[split_size:]\n",
        "\n",
        "len(X_train), len(y_train), len(X_test), len(y_test)"
      ],
      "metadata": {
        "colab": {
          "base_uri": "https://localhost:8080/"
        },
        "id": "nKGJ-rTTA7l8",
        "outputId": "1798f0e2-cde0-426e-9a49-a71451918dfc"
      },
      "execution_count": 197,
      "outputs": [
        {
          "output_type": "execute_result",
          "data": {
            "text/plain": [
              "(40, 40, 10, 10)"
            ]
          },
          "metadata": {},
          "execution_count": 197
        }
      ]
    },
    {
      "cell_type": "code",
      "source": [
        "# visualization\n",
        "plt.style.use('https://github.com/dhaitz/matplotlib-stylesheets/raw/master/pitayasmoothie-light.mplstyle')\n",
        "\n",
        "def pred_plot(train_data = X_train,\n",
        "             train_labels = y_train,\n",
        "             test_data = X_test,\n",
        "             test_labels = y_test,\n",
        "             predictions = None):\n",
        "\n",
        "  plt.figure(figsize=(8, 4))\n",
        "\n",
        "  plt.scatter(train_data.to('cpu'), train_labels.to('cpu'), c='b', s=4, label=\"Training Data\")\n",
        "  plt.scatter(test_data.to('cpu'), test_labels.to('cpu'), c='r', s=4, label=\"Testing Data\")\n",
        "\n",
        "  if predictions is not None:\n",
        "    plt.scatter(test_labels.to('cpu'), predictions.to('cpu'), c='g', s=4, label=\"Predictions\")\n",
        "\n",
        "  plt.legend()\n",
        "pred_plot()"
      ],
      "metadata": {
        "colab": {
          "base_uri": "https://localhost:8080/",
          "height": 363
        },
        "id": "F6C80pE5A7j3",
        "outputId": "89b1beb7-2611-4b88-96bd-03f78dd1fe4b"
      },
      "execution_count": 198,
      "outputs": [
        {
          "output_type": "display_data",
          "data": {
            "text/plain": [
              "<Figure size 800x400 with 1 Axes>"
            ],
            "image/png": "[encoded data removed]"
          },
          "metadata": {}
        }
      ]
    },
    {
      "cell_type": "code",
      "source": [
        "# model building\n",
        "class LinearRegressingModel(nn.Module):\n",
        "  def __init__(self):\n",
        "    super().__init__()\n",
        "    self.linear_layer = nn.Linear(in_features=1,\n",
        "                                  out_features=1)\n",
        "\n",
        "  def forward(self, x: torch.Tensor) -> torch.Tensor:\n",
        "    return self.linear_layer(x)\n",
        "\n",
        "model = LinearRegressingModel()\n",
        "model, model.state_dict()"
      ],
      "metadata": {
        "colab": {
          "base_uri": "https://localhost:8080/"
        },
        "id": "IVqlQCwPA7eI",
        "outputId": "94272645-37d6-4a03-b36e-5cee89ab61de"
      },
      "execution_count": 199,
      "outputs": [
        {
          "output_type": "execute_result",
          "data": {
            "text/plain": [
              "(LinearRegressingModel(\n",
              "   (linear_layer): Linear(in_features=1, out_features=1, bias=True)\n",
              " ),\n",
              " OrderedDict([('linear_layer.weight', tensor([[-0.2191]])),\n",
              "              ('linear_layer.bias', tensor([0.2018]))]))"
            ]
          },
          "metadata": {},
          "execution_count": 199
        }
      ]
    },
    {
      "cell_type": "code",
      "source": [
        "# data to GPU\n",
        "X_train = X_train.to(device)\n",
        "y_train = y_train.to(device)\n",
        "X_test = X_test.to(device)\n",
        "y_test = y_test.to(device)\n",
        "\n",
        "# model to GPU\n",
        "model.to(device)\n",
        "next(model.parameters()).device"
      ],
      "metadata": {
        "colab": {
          "base_uri": "https://localhost:8080/"
        },
        "id": "ww11WbHXLSD9",
        "outputId": "f0a852f2-e9cf-4f06-eb1f-f751615a11a3"
      },
      "execution_count": 200,
      "outputs": [
        {
          "output_type": "execute_result",
          "data": {
            "text/plain": [
              "device(type='cuda', index=0)"
            ]
          },
          "metadata": {},
          "execution_count": 200
        }
      ]
    },
    {
      "cell_type": "code",
      "source": [
        "# training\n",
        "loss_fn = nn.L1Loss()\n",
        "optimizer = torch.optim.Adam(params=model.parameters(), lr=0.01)\n",
        "\n",
        "# loop\n",
        "epochs = 200\n",
        "\n",
        "epoch_count = []\n",
        "train_loss_values = []\n",
        "test_loss_values = []\n",
        "\n",
        "for epoch in range(epochs):\n",
        "  model.train()\n",
        "  y_pred = model(X_train)\n",
        "  loss = loss_fn(y_pred, y_train)\n",
        "  optimizer.zero_grad()\n",
        "  loss.backward()\n",
        "  optimizer.step()\n",
        "\n",
        "  model.eval()\n",
        "  with torch.inference_mode():\n",
        "    test_pred = model(X_test)\n",
        "    test_loss = loss_fn(test_pred, y_test)\n",
        "\n",
        "  if epoch % 10 == 0:\n",
        "    epoch_count.append(epoch)\n",
        "    train_loss_values.append(loss)\n",
        "    test_loss_values.append(test_loss)\n",
        "    print(f\"Epoch: {epoch} | Train Loss: {loss} | Test Loss: {test_loss}\")"
      ],
      "metadata": {
        "colab": {
          "base_uri": "https://localhost:8080/"
        },
        "id": "vjKNyBX4LSBG",
        "outputId": "d5d632f8-d66c-494f-c63f-53fc6deec38b"
      },
      "execution_count": 201,
      "outputs": [
        {
          "output_type": "stream",
          "name": "stdout",
          "text": [
            "Epoch: 0 | Train Loss: 0.4566597044467926 | Test Loss: 0.8973115086555481\n",
            "Epoch: 10 | Train Loss: 0.3177492618560791 | Test Loss: 0.7083398699760437\n",
            "Epoch: 20 | Train Loss: 0.20143155753612518 | Test Loss: 0.5238578915596008\n",
            "Epoch: 30 | Train Loss: 0.1324039101600647 | Test Loss: 0.3589470088481903\n",
            "Epoch: 40 | Train Loss: 0.1085531935095787 | Test Loss: 0.23735304176807404\n",
            "Epoch: 50 | Train Loss: 0.10274826735258102 | Test Loss: 0.17945235967636108\n",
            "Epoch: 60 | Train Loss: 0.09214378893375397 | Test Loss: 0.1735776960849762\n",
            "Epoch: 70 | Train Loss: 0.08031421899795532 | Test Loss: 0.17658784985542297\n",
            "Epoch: 80 | Train Loss: 0.06917238980531693 | Test Loss: 0.1594291627407074\n",
            "Epoch: 90 | Train Loss: 0.057067979127168655 | Test Loss: 0.12565593421459198\n",
            "Epoch: 100 | Train Loss: 0.04458506032824516 | Test Loss: 0.09359941631555557\n",
            "Epoch: 110 | Train Loss: 0.03158891946077347 | Test Loss: 0.06799738109111786\n",
            "Epoch: 120 | Train Loss: 0.018205774948000908 | Test Loss: 0.036888208240270615\n",
            "Epoch: 130 | Train Loss: 0.0044217705726623535 | Test Loss: 0.006429565139114857\n",
            "Epoch: 140 | Train Loss: 0.004643158055841923 | Test Loss: 0.009688031859695911\n",
            "Epoch: 150 | Train Loss: 0.0009696565684862435 | Test Loss: 0.0033115686383098364\n",
            "Epoch: 160 | Train Loss: 0.0004995919880457222 | Test Loss: 0.0023561776615679264\n",
            "Epoch: 170 | Train Loss: 0.00011822804663097486 | Test Loss: 0.002172142267227173\n",
            "Epoch: 180 | Train Loss: 0.0021886632312089205 | Test Loss: 0.0023123205173760653\n",
            "Epoch: 190 | Train Loss: 0.0012173861032351851 | Test Loss: 0.0016149223083630204\n"
          ]
        }
      ]
    },
    {
      "cell_type": "code",
      "source": [
        "model.state_dict()"
      ],
      "metadata": {
        "colab": {
          "base_uri": "https://localhost:8080/"
        },
        "id": "X6VllmF2LR-P",
        "outputId": "d4bbc6e3-54eb-47b5-98a3-b3073d514205"
      },
      "execution_count": 202,
      "outputs": [
        {
          "output_type": "execute_result",
          "data": {
            "text/plain": [
              "OrderedDict([('linear_layer.weight', tensor([[0.7000]], device='cuda:0')),\n",
              "             ('linear_layer.bias', tensor([0.2989], device='cuda:0'))])"
            ]
          },
          "metadata": {},
          "execution_count": 202
        }
      ]
    },
    {
      "cell_type": "code",
      "source": [
        "# predictions and evaluations\n",
        "model.eval()\n",
        "with torch.inference_mode():\n",
        "  new_pred = model(X_test)\n",
        "\n",
        "pred_plot(predictions=new_pred)"
      ],
      "metadata": {
        "colab": {
          "base_uri": "https://localhost:8080/",
          "height": 363
        },
        "id": "sz75BtySLR7p",
        "outputId": "97b01f50-71d1-44cf-db49-9edc754e48ac"
      },
      "execution_count": 203,
      "outputs": [
        {
          "output_type": "display_data",
          "data": {
            "text/plain": [
              "<Figure size 800x400 with 1 Axes>"
            ],
            "image/png": "[encoded data removed]"
          },
          "metadata": {}
        }
      ]
    },
    {
      "cell_type": "code",
      "source": [
        "# loss curve\n",
        "plt.plot(epoch_count, torch.tensor(train_loss_values).numpy(), label=\"Train Loss\")\n",
        "plt.plot(epoch_count, torch.tensor(test_loss_values).numpy(), label=\"Test Loss\")\n",
        "plt.xlabel(\"Loss\")\n",
        "plt.ylabel(\"Epochs\")\n",
        "plt.title(\"Loss Curve\")\n",
        "plt.legend()"
      ],
      "metadata": {
        "colab": {
          "base_uri": "https://localhost:8080/",
          "height": 483
        },
        "id": "KGeZ0MQxLR4i",
        "outputId": "66a077c6-7265-4dc5-9129-1fdf3eded14e"
      },
      "execution_count": 204,
      "outputs": [
        {
          "output_type": "execute_result",
          "data": {
            "text/plain": [
              "<matplotlib.legend.Legend at 0x7894e4f5fd90>"
            ]
          },
          "metadata": {},
          "execution_count": 204
        },
        {
          "output_type": "display_data",
          "data": {
            "text/plain": [
              "<Figure size 640x480 with 1 Axes>"
            ],
            "image/png": "[encoded data removed]"
          },
          "metadata": {}
        }
      ]
    },
    {
      "cell_type": "code",
      "source": [
        "# saving the model\n",
        "from pathlib import Path\n",
        "\n",
        "MODEL_PATH = Path('models')\n",
        "MODEL_PATH.mkdir(parents=True, exist_ok=True)\n",
        "\n",
        "MODEL_NAME = \"01_pytorch_workflow_model.pth\"\n",
        "MODEL_SAVE_PATH = MODEL_PATH / MODEL_NAME\n",
        "\n",
        "torch.save(\n",
        "    obj=model.state_dict(),\n",
        "    f=MODEL_SAVE_PATH\n",
        ")\n",
        "print(f\"model saved to: {MODEL_SAVE_PATH}\")"
      ],
      "metadata": {
        "colab": {
          "base_uri": "https://localhost:8080/"
        },
        "id": "Avlcuq30FgCQ",
        "outputId": "db76c2ca-861b-41fa-c3b3-0e2ba495feb5"
      },
      "execution_count": 206,
      "outputs": [
        {
          "output_type": "stream",
          "name": "stdout",
          "text": [
            "model saved to: models/01_pytorch_workflow_model.pth\n"
          ]
        }
      ]
    },
    {
      "cell_type": "code",
      "source": [
        "# loading the saved model\n",
        "loaded_model = LinearRegressingModel()\n",
        "loaded_model.load_state_dict(torch.load(MODEL_SAVE_PATH))"
      ],
      "metadata": {
        "colab": {
          "base_uri": "https://localhost:8080/"
        },
        "id": "wcvRqs9SSHLY",
        "outputId": "bda4643c-146e-48d1-9f21-1017bdea07ee"
      },
      "execution_count": 214,
      "outputs": [
        {
          "output_type": "execute_result",
          "data": {
            "text/plain": [
              "<All keys matched successfully>"
            ]
          },
          "metadata": {},
          "execution_count": 214
        }
      ]
    },
    {
      "cell_type": "code",
      "source": [
        "loaded_model.to(device)\n",
        "\n",
        "loaded_model.eval()\n",
        "with torch.inference_mode():\n",
        "  loaded_model_pred = loaded_model(X_test)\n",
        "\n",
        "loaded_model_pred == new_pred"
      ],
      "metadata": {
        "colab": {
          "base_uri": "https://localhost:8080/"
        },
        "id": "T8Fd7MKqFf5J",
        "outputId": "475293cb-beb4-47f6-c396-538aa8022ff3"
      },
      "execution_count": 209,
      "outputs": [
        {
          "output_type": "execute_result",
          "data": {
            "text/plain": [
              "tensor([[True],\n",
              "        [True],\n",
              "        [True],\n",
              "        [True],\n",
              "        [True],\n",
              "        [True],\n",
              "        [True],\n",
              "        [True],\n",
              "        [True],\n",
              "        [True]], device='cuda:0')"
            ]
          },
          "metadata": {},
          "execution_count": 209
        }
      ]
    },
    {
      "cell_type": "code",
      "source": [],
      "metadata": {
        "id": "1XalZMQRXjRS"
      },
      "execution_count": null,
      "outputs": []
    }
  ]
}